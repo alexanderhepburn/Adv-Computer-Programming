{
 "cells": [
  {
   "cell_type": "code",
   "execution_count": 9,
   "id": "initial_id",
   "metadata": {
    "collapsed": true,
    "ExecuteTime": {
     "end_time": "2024-04-23T13:36:48.140972Z",
     "start_time": "2024-04-23T13:36:48.124905Z"
    }
   },
   "outputs": [],
   "source": [
    "## Master 4: Baby names\n",
    "## Description: Apply various function to a Baby names DF\n",
    "## Language: Python\n",
    "## Author: Alexander Hepburn\n",
    "## Date: 23.04.2024\n",
    "\n",
    "# Use jupyter notebook again\n",
    "# we will use data set from kaggle on us-baby-names\n",
    "# dataset is here:\n",
    "# https://raw.githubusercontent.com/mslyon/testone/master/US_Baby_Names_right.csv\n",
    "#Import the necessary libraries\n",
    "import pandas as pd\n"
   ]
  },
  {
   "cell_type": "code",
   "execution_count": 10,
   "outputs": [
    {
     "data": {
      "text/plain": "   Unnamed: 0     Id     Name  Year Gender State  Count\n0       11349  11350     Emma  2004      F    AK     62\n1       11350  11351  Madison  2004      F    AK     48\n2       11351  11352   Hannah  2004      F    AK     46\n3       11352  11353    Grace  2004      F    AK     44\n4       11353  11354    Emily  2004      F    AK     41",
      "text/html": "<div>\n<style scoped>\n    .dataframe tbody tr th:only-of-type {\n        vertical-align: middle;\n    }\n\n    .dataframe tbody tr th {\n        vertical-align: top;\n    }\n\n    .dataframe thead th {\n        text-align: right;\n    }\n</style>\n<table border=\"1\" class=\"dataframe\">\n  <thead>\n    <tr style=\"text-align: right;\">\n      <th></th>\n      <th>Unnamed: 0</th>\n      <th>Id</th>\n      <th>Name</th>\n      <th>Year</th>\n      <th>Gender</th>\n      <th>State</th>\n      <th>Count</th>\n    </tr>\n  </thead>\n  <tbody>\n    <tr>\n      <th>0</th>\n      <td>11349</td>\n      <td>11350</td>\n      <td>Emma</td>\n      <td>2004</td>\n      <td>F</td>\n      <td>AK</td>\n      <td>62</td>\n    </tr>\n    <tr>\n      <th>1</th>\n      <td>11350</td>\n      <td>11351</td>\n      <td>Madison</td>\n      <td>2004</td>\n      <td>F</td>\n      <td>AK</td>\n      <td>48</td>\n    </tr>\n    <tr>\n      <th>2</th>\n      <td>11351</td>\n      <td>11352</td>\n      <td>Hannah</td>\n      <td>2004</td>\n      <td>F</td>\n      <td>AK</td>\n      <td>46</td>\n    </tr>\n    <tr>\n      <th>3</th>\n      <td>11352</td>\n      <td>11353</td>\n      <td>Grace</td>\n      <td>2004</td>\n      <td>F</td>\n      <td>AK</td>\n      <td>44</td>\n    </tr>\n    <tr>\n      <th>4</th>\n      <td>11353</td>\n      <td>11354</td>\n      <td>Emily</td>\n      <td>2004</td>\n      <td>F</td>\n      <td>AK</td>\n      <td>41</td>\n    </tr>\n  </tbody>\n</table>\n</div>"
     },
     "execution_count": 10,
     "metadata": {},
     "output_type": "execute_result"
    }
   ],
   "source": [
    "# TASK 1: Assign it to a variable called baby_names\n",
    "# Simple read using pd.read_csv()\n",
    "baby_names = pd.read_csv(\"https://raw.githubusercontent.com/mslyon/testone/master/US_Baby_Names_right.csv\")\n"
   ],
   "metadata": {
    "collapsed": false,
    "ExecuteTime": {
     "end_time": "2024-04-23T13:37:44.646734Z",
     "start_time": "2024-04-23T13:37:39.385625Z"
    }
   },
   "id": "22d3e850f0c5de96"
  },
  {
   "cell_type": "code",
   "execution_count": 11,
   "outputs": [
    {
     "name": "stdout",
     "output_type": "stream",
     "text": [
      "<class 'pandas.core.frame.DataFrame'>\n",
      "RangeIndex: 1016395 entries, 0 to 1016394\n",
      "Data columns (total 7 columns):\n",
      " #   Column      Non-Null Count    Dtype \n",
      "---  ------      --------------    ----- \n",
      " 0   Unnamed: 0  1016395 non-null  int64 \n",
      " 1   Id          1016395 non-null  int64 \n",
      " 2   Name        1016395 non-null  object\n",
      " 3   Year        1016395 non-null  int64 \n",
      " 4   Gender      1016395 non-null  object\n",
      " 5   State       1016395 non-null  object\n",
      " 6   Count       1016395 non-null  int64 \n",
      "dtypes: int64(4), object(3)\n",
      "memory usage: 54.3+ MB\n"
     ]
    }
   ],
   "source": [
    "# TASK 2: Check the info with .info()\n",
    "# Get info with the info() function\n",
    "baby_names.info()\n"
   ],
   "metadata": {
    "collapsed": false,
    "ExecuteTime": {
     "end_time": "2024-04-23T13:38:00.253713Z",
     "start_time": "2024-04-23T13:38:00.107688Z"
    }
   },
   "id": "95c6fb2a45be148f"
  },
  {
   "cell_type": "code",
   "execution_count": 12,
   "outputs": [
    {
     "data": {
      "text/plain": "   Unnamed: 0     Id     Name  Year Gender State  Count\n0       11349  11350     Emma  2004      F    AK     62\n1       11350  11351  Madison  2004      F    AK     48\n2       11351  11352   Hannah  2004      F    AK     46\n3       11352  11353    Grace  2004      F    AK     44\n4       11353  11354    Emily  2004      F    AK     41",
      "text/html": "<div>\n<style scoped>\n    .dataframe tbody tr th:only-of-type {\n        vertical-align: middle;\n    }\n\n    .dataframe tbody tr th {\n        vertical-align: top;\n    }\n\n    .dataframe thead th {\n        text-align: right;\n    }\n</style>\n<table border=\"1\" class=\"dataframe\">\n  <thead>\n    <tr style=\"text-align: right;\">\n      <th></th>\n      <th>Unnamed: 0</th>\n      <th>Id</th>\n      <th>Name</th>\n      <th>Year</th>\n      <th>Gender</th>\n      <th>State</th>\n      <th>Count</th>\n    </tr>\n  </thead>\n  <tbody>\n    <tr>\n      <th>0</th>\n      <td>11349</td>\n      <td>11350</td>\n      <td>Emma</td>\n      <td>2004</td>\n      <td>F</td>\n      <td>AK</td>\n      <td>62</td>\n    </tr>\n    <tr>\n      <th>1</th>\n      <td>11350</td>\n      <td>11351</td>\n      <td>Madison</td>\n      <td>2004</td>\n      <td>F</td>\n      <td>AK</td>\n      <td>48</td>\n    </tr>\n    <tr>\n      <th>2</th>\n      <td>11351</td>\n      <td>11352</td>\n      <td>Hannah</td>\n      <td>2004</td>\n      <td>F</td>\n      <td>AK</td>\n      <td>46</td>\n    </tr>\n    <tr>\n      <th>3</th>\n      <td>11352</td>\n      <td>11353</td>\n      <td>Grace</td>\n      <td>2004</td>\n      <td>F</td>\n      <td>AK</td>\n      <td>44</td>\n    </tr>\n    <tr>\n      <th>4</th>\n      <td>11353</td>\n      <td>11354</td>\n      <td>Emily</td>\n      <td>2004</td>\n      <td>F</td>\n      <td>AK</td>\n      <td>41</td>\n    </tr>\n  </tbody>\n</table>\n</div>"
     },
     "execution_count": 12,
     "metadata": {},
     "output_type": "execute_result"
    }
   ],
   "source": [
    "# TASK 3: Check head with head()\n",
    "# Get the first 5 entries with the head() function\n",
    "baby_names.head()"
   ],
   "metadata": {
    "collapsed": false,
    "ExecuteTime": {
     "end_time": "2024-04-23T13:38:05.353627Z",
     "start_time": "2024-04-23T13:38:05.349022Z"
    }
   },
   "id": "21e5df75df7343a6"
  },
  {
   "cell_type": "code",
   "execution_count": 14,
   "outputs": [],
   "source": [
    "# TASK 4: Delete the column 'Unnamed: 0' and 'Id'\n",
    "\n",
    "del baby_names[\"Unnamed: 0\"]\n",
    "del baby_names[\"Id\"]"
   ],
   "metadata": {
    "collapsed": false,
    "ExecuteTime": {
     "end_time": "2024-04-23T13:38:50.154601Z",
     "start_time": "2024-04-23T13:38:50.153273Z"
    }
   },
   "id": "71b2723fdca719c7"
  },
  {
   "cell_type": "code",
   "execution_count": 25,
   "outputs": [
    {
     "data": {
      "text/plain": "         Count\nName          \nAaban       12\nAadan       23\nAadarsh      5\nAaden     3426\nAadhav       6",
      "text/html": "<div>\n<style scoped>\n    .dataframe tbody tr th:only-of-type {\n        vertical-align: middle;\n    }\n\n    .dataframe tbody tr th {\n        vertical-align: top;\n    }\n\n    .dataframe thead th {\n        text-align: right;\n    }\n</style>\n<table border=\"1\" class=\"dataframe\">\n  <thead>\n    <tr style=\"text-align: right;\">\n      <th></th>\n      <th>Count</th>\n    </tr>\n    <tr>\n      <th>Name</th>\n      <th></th>\n    </tr>\n  </thead>\n  <tbody>\n    <tr>\n      <th>Aaban</th>\n      <td>12</td>\n    </tr>\n    <tr>\n      <th>Aadan</th>\n      <td>23</td>\n    </tr>\n    <tr>\n      <th>Aadarsh</th>\n      <td>5</td>\n    </tr>\n    <tr>\n      <th>Aaden</th>\n      <td>3426</td>\n    </tr>\n    <tr>\n      <th>Aadhav</th>\n      <td>6</td>\n    </tr>\n  </tbody>\n</table>\n</div>"
     },
     "execution_count": 25,
     "metadata": {},
     "output_type": "execute_result"
    }
   ],
   "source": [
    "# TASK 5: Group the dataset by name and assign to names\n",
    "# use .groupby(\"Name\").sum()\n",
    "\n",
    "grouped_baby_names = baby_names.groupby(\"Name\").sum() # Simple groupby and suming the Name\n",
    "del grouped_baby_names[\"Gender\"] # removing gender as it is not needed\n",
    "del grouped_baby_names[\"Year\"] # removing year as it is not needed\n",
    "del grouped_baby_names[\"State\"] # removing State as it is not needed\n",
    "grouped_baby_names.head() # displaying the first 5"
   ],
   "metadata": {
    "collapsed": false,
    "ExecuteTime": {
     "end_time": "2024-04-23T13:54:07.574874Z",
     "start_time": "2024-04-23T13:54:07.149320Z"
    }
   },
   "id": "b75c6b862ec2db66"
  },
  {
   "cell_type": "code",
   "execution_count": 31,
   "outputs": [],
   "source": [
    "\n",
    "# TASK 6: sort from the biggest value to the smallest one / use .sort_values\n",
    "\n",
    "sorted_group = grouped_baby_names.sort_values(by=\"Count\") # sorting based on count"
   ],
   "metadata": {
    "collapsed": false,
    "ExecuteTime": {
     "end_time": "2024-04-23T13:57:01.344599Z",
     "start_time": "2024-04-23T13:57:01.328261Z"
    }
   },
   "id": "9392f1f3c3b9f987"
  },
  {
   "cell_type": "code",
   "execution_count": 43,
   "outputs": [
    {
     "name": "stdout",
     "output_type": "stream",
     "text": [
      "There are 17632 unique baby names!\n"
     ]
    }
   ],
   "source": [
    "# TASK 7: as we have already grouped by the name, all the names are unique already. \n",
    "# get the length of names - use len\n",
    "\n",
    "print(\"There are\", len(grouped_baby_names), \"unique baby names!\") # printing the length of the names\n"
   ],
   "metadata": {
    "collapsed": false,
    "ExecuteTime": {
     "end_time": "2024-04-23T14:49:49.323219Z",
     "start_time": "2024-04-23T14:49:49.321786Z"
    }
   },
   "id": "806be3c8641bf7ef"
  },
  {
   "cell_type": "code",
   "execution_count": 42,
   "outputs": [
    {
     "name": "stdout",
     "output_type": "stream",
     "text": [
      "Name with the most occurences is: Jacob\n"
     ]
    }
   ],
   "source": [
    "# TASK 8: What is the name with most occurrences?\n",
    "\n",
    "most_occ_name = sorted_group.iloc[-1].name # Getting the last element for the most occcuring name\n",
    "print(f\"Name with the most occurences is: {most_occ_name}\") # Printing the result"
   ],
   "metadata": {
    "collapsed": false,
    "ExecuteTime": {
     "end_time": "2024-04-23T13:58:22.960259Z",
     "start_time": "2024-04-23T13:58:22.956408Z"
    }
   },
   "id": "90caec40bf2e9237"
  },
  {
   "cell_type": "code",
   "execution_count": null,
   "outputs": [],
   "source": [],
   "metadata": {
    "collapsed": false
   },
   "id": "cfb57146afc6c6f1"
  }
 ],
 "metadata": {
  "kernelspec": {
   "display_name": "Python 3",
   "language": "python",
   "name": "python3"
  },
  "language_info": {
   "codemirror_mode": {
    "name": "ipython",
    "version": 2
   },
   "file_extension": ".py",
   "mimetype": "text/x-python",
   "name": "python",
   "nbconvert_exporter": "python",
   "pygments_lexer": "ipython2",
   "version": "2.7.6"
  }
 },
 "nbformat": 4,
 "nbformat_minor": 5
}
