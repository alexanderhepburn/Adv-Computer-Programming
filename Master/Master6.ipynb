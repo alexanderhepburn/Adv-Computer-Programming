{
 "cells": [
  {
   "cell_type": "code",
   "execution_count": 178,
   "id": "initial_id",
   "metadata": {
    "collapsed": true,
    "ExecuteTime": {
     "end_time": "2024-04-23T16:02:54.811865Z",
     "start_time": "2024-04-23T16:02:54.803622Z"
    }
   },
   "outputs": [],
   "source": [
    "## Master 6: Stock from web\n",
    "## Description: Get the volumes of stocks using an API\n",
    "## Language: Python\n",
    "## Author: Alexander Hepburn\n",
    "## Date: 23.04.2024\n",
    "\n",
    "# in this task we want to understand the volume traded on the stock market in specific years by the predefined stocks. We will use google to get the data \n",
    "\n",
    "import pandas as pd \n",
    "\n",
    "# package to extract data from various Internet sources into a DataFrame \n",
    "import pandas_datareader.data as web\n",
    "\n",
    "# package for dates \n",
    "\n",
    "import datetime as dt \n"
   ]
  },
  {
   "cell_type": "code",
   "execution_count": 179,
   "outputs": [
    {
     "data": {
      "text/plain": "              open    high     low   close   volume\n2015-01-02  230.74  231.39  224.26  229.65  1200000\n2015-01-05  227.99  232.20  225.56  227.51  1400000\n2015-01-06  227.62  228.78  214.52  219.51  2009999\n2015-01-07  220.99  223.43  217.37  222.16   985020\n2015-01-08  223.59  228.72  220.77  227.05  1290000",
      "text/html": "<div>\n<style scoped>\n    .dataframe tbody tr th:only-of-type {\n        vertical-align: middle;\n    }\n\n    .dataframe tbody tr th {\n        vertical-align: top;\n    }\n\n    .dataframe thead th {\n        text-align: right;\n    }\n</style>\n<table border=\"1\" class=\"dataframe\">\n  <thead>\n    <tr style=\"text-align: right;\">\n      <th></th>\n      <th>open</th>\n      <th>high</th>\n      <th>low</th>\n      <th>close</th>\n      <th>volume</th>\n    </tr>\n  </thead>\n  <tbody>\n    <tr>\n      <th>2015-01-02</th>\n      <td>230.74</td>\n      <td>231.39</td>\n      <td>224.26</td>\n      <td>229.65</td>\n      <td>1200000</td>\n    </tr>\n    <tr>\n      <th>2015-01-05</th>\n      <td>227.99</td>\n      <td>232.20</td>\n      <td>225.56</td>\n      <td>227.51</td>\n      <td>1400000</td>\n    </tr>\n    <tr>\n      <th>2015-01-06</th>\n      <td>227.62</td>\n      <td>228.78</td>\n      <td>214.52</td>\n      <td>219.51</td>\n      <td>2009999</td>\n    </tr>\n    <tr>\n      <th>2015-01-07</th>\n      <td>220.99</td>\n      <td>223.43</td>\n      <td>217.37</td>\n      <td>222.16</td>\n      <td>985020</td>\n    </tr>\n    <tr>\n      <th>2015-01-08</th>\n      <td>223.59</td>\n      <td>228.72</td>\n      <td>220.77</td>\n      <td>227.05</td>\n      <td>1290000</td>\n    </tr>\n  </tbody>\n</table>\n</div>"
     },
     "execution_count": 179,
     "metadata": {},
     "output_type": "execute_result"
    }
   ],
   "source": [
    "# TASK 1: Create your time range (start and end variables). The start date should be 01/01/2015 and the end should today (whatever your today is) - use \n",
    "\n",
    "# we pick the Apple, Tesla, Twitter, IBM, LinkedIn stocks symbols and assign them to a variable called stocks \n",
    "\n",
    "#### Google has been deprecated. Therefore have to use a different api, using Alpha Vantage\n",
    "\n",
    "stocks = ['AAPL', 'TSLA', 'IBM', 'LNKD'] # Stock symbols\n",
    "\n",
    "start = dt.datetime(2015, 1, 1) # Enter start date as datetime variable\n",
    "\n",
    "end = dt.datetime.now() # End now set to now\n",
    "\n",
    "df = web.DataReader(stocks, \"av-daily\", start, end, api_key=\"DU5E0A12G3E9L5AS\") # Datareader with Alpha Vantage (using my API-KEY)\n",
    "df.head() # Verify results"
   ],
   "metadata": {
    "collapsed": false,
    "ExecuteTime": {
     "end_time": "2024-04-23T16:02:55.706875Z",
     "start_time": "2024-04-23T16:02:54.814184Z"
    }
   },
   "id": "fdf54db541a40bac"
  },
  {
   "cell_type": "code",
   "execution_count": 180,
   "outputs": [
    {
     "data": {
      "text/plain": "2015-01-02    1200000\n2015-01-05    1400000\n2015-01-06    2009999\n2015-01-07     985020\n2015-01-08    1290000\nName: volume, dtype: int64"
     },
     "execution_count": 180,
     "metadata": {},
     "output_type": "execute_result"
    }
   ],
   "source": [
    "# we now create a dataFrame called vol, with the Volume values. \n",
    "vol = df['volume']  # View the results\n",
    "vol.head() "
   ],
   "metadata": {
    "collapsed": false,
    "ExecuteTime": {
     "end_time": "2024-04-23T16:02:55.708435Z",
     "start_time": "2024-04-23T16:02:55.703980Z"
    }
   },
   "id": "21b883e4228a1e66"
  },
  {
   "cell_type": "code",
   "execution_count": 181,
   "outputs": [
    {
     "data": {
      "text/plain": "             volume week  year\n2015-01-02  1200000   00  2015\n2015-01-05  1400000   01  2015\n2015-01-06  2009999   01  2015\n2015-01-07   985020   01  2015\n2015-01-08  1290000   01  2015\n2015-01-09  1520000   01  2015\n2015-01-12  1650000   02  2015\n2015-01-13  1580000   02  2015\n2015-01-14  1370000   02  2015\n2015-01-15  1370000   02  2015",
      "text/html": "<div>\n<style scoped>\n    .dataframe tbody tr th:only-of-type {\n        vertical-align: middle;\n    }\n\n    .dataframe tbody tr th {\n        vertical-align: top;\n    }\n\n    .dataframe thead th {\n        text-align: right;\n    }\n</style>\n<table border=\"1\" class=\"dataframe\">\n  <thead>\n    <tr style=\"text-align: right;\">\n      <th></th>\n      <th>volume</th>\n      <th>week</th>\n      <th>year</th>\n    </tr>\n  </thead>\n  <tbody>\n    <tr>\n      <th>2015-01-02</th>\n      <td>1200000</td>\n      <td>00</td>\n      <td>2015</td>\n    </tr>\n    <tr>\n      <th>2015-01-05</th>\n      <td>1400000</td>\n      <td>01</td>\n      <td>2015</td>\n    </tr>\n    <tr>\n      <th>2015-01-06</th>\n      <td>2009999</td>\n      <td>01</td>\n      <td>2015</td>\n    </tr>\n    <tr>\n      <th>2015-01-07</th>\n      <td>985020</td>\n      <td>01</td>\n      <td>2015</td>\n    </tr>\n    <tr>\n      <th>2015-01-08</th>\n      <td>1290000</td>\n      <td>01</td>\n      <td>2015</td>\n    </tr>\n    <tr>\n      <th>2015-01-09</th>\n      <td>1520000</td>\n      <td>01</td>\n      <td>2015</td>\n    </tr>\n    <tr>\n      <th>2015-01-12</th>\n      <td>1650000</td>\n      <td>02</td>\n      <td>2015</td>\n    </tr>\n    <tr>\n      <th>2015-01-13</th>\n      <td>1580000</td>\n      <td>02</td>\n      <td>2015</td>\n    </tr>\n    <tr>\n      <th>2015-01-14</th>\n      <td>1370000</td>\n      <td>02</td>\n      <td>2015</td>\n    </tr>\n    <tr>\n      <th>2015-01-15</th>\n      <td>1370000</td>\n      <td>02</td>\n      <td>2015</td>\n    </tr>\n  </tbody>\n</table>\n</div>"
     },
     "execution_count": 181,
     "metadata": {},
     "output_type": "execute_result"
    }
   ],
   "source": [
    "# we now want to Aggregate the data of Volume to weekly \n",
    "vol.index = pd.to_datetime(vol.index) # Cast the index to datetime\n",
    "\n",
    "new_vol = pd.DataFrame(index=vol.index, data={\"volume\": vol.values,\"week\" : vol.index.strftime('%U'), \"year\" : vol.index.year}) # Create a new Df with volume, week and year\n",
    "new_vol.head(10) # Verify the results"
   ],
   "metadata": {
    "collapsed": false,
    "ExecuteTime": {
     "end_time": "2024-04-23T16:02:55.771440Z",
     "start_time": "2024-04-23T16:02:55.723007Z"
    }
   },
   "id": "546db36329c11e9"
  },
  {
   "cell_type": "code",
   "execution_count": 182,
   "outputs": [
    {
     "data": {
      "text/plain": "            volume\nweek year         \n00   2015  1200000\n01   2015  7205019\n     2016  6640000\n02   2015  7080000\n     2016  9170000",
      "text/html": "<div>\n<style scoped>\n    .dataframe tbody tr th:only-of-type {\n        vertical-align: middle;\n    }\n\n    .dataframe tbody tr th {\n        vertical-align: top;\n    }\n\n    .dataframe thead th {\n        text-align: right;\n    }\n</style>\n<table border=\"1\" class=\"dataframe\">\n  <thead>\n    <tr style=\"text-align: right;\">\n      <th></th>\n      <th></th>\n      <th>volume</th>\n    </tr>\n    <tr>\n      <th>week</th>\n      <th>year</th>\n      <th></th>\n    </tr>\n  </thead>\n  <tbody>\n    <tr>\n      <th>00</th>\n      <th>2015</th>\n      <td>1200000</td>\n    </tr>\n    <tr>\n      <th rowspan=\"2\" valign=\"top\">01</th>\n      <th>2015</th>\n      <td>7205019</td>\n    </tr>\n    <tr>\n      <th>2016</th>\n      <td>6640000</td>\n    </tr>\n    <tr>\n      <th rowspan=\"2\" valign=\"top\">02</th>\n      <th>2015</th>\n      <td>7080000</td>\n    </tr>\n    <tr>\n      <th>2016</th>\n      <td>9170000</td>\n    </tr>\n  </tbody>\n</table>\n</div>"
     },
     "execution_count": 182,
     "metadata": {},
     "output_type": "execute_result"
    }
   ],
   "source": [
    "week = new_vol.groupby(['week','year']).sum() # Code supplied by assignment \n",
    "week.head() "
   ],
   "metadata": {
    "collapsed": false,
    "ExecuteTime": {
     "end_time": "2024-04-23T16:02:55.812726Z",
     "start_time": "2024-04-23T16:02:55.730885Z"
    }
   },
   "id": "4cc944fadc7f453d"
  },
  {
   "cell_type": "code",
   "execution_count": 183,
   "outputs": [
    {
     "name": "stdout",
     "output_type": "stream",
     "text": [
      "Volume in 2015 was: 441277135\n"
     ]
    }
   ],
   "source": [
    "# TASK 2: Find all the volume traded in the year of 2015 \n",
    "# tip: you will have to delete week column but also to use groupby\n",
    "\n",
    "year = new_vol.groupby(['year']).sum() # Group by year and sum the volume\n",
    "del year[\"week\"] # Delete the week, although this is 100% needed\n",
    "print(f\"Volume in 2015 was: {year.loc[2015].iloc[0]}\") # Print it nicely"
   ],
   "metadata": {
    "collapsed": false,
    "ExecuteTime": {
     "end_time": "2024-04-23T16:02:55.813350Z",
     "start_time": "2024-04-23T16:02:55.741135Z"
    }
   },
   "id": "f5210078d56550a3"
  },
  {
   "cell_type": "code",
   "execution_count": 183,
   "outputs": [],
   "source": [],
   "metadata": {
    "collapsed": false,
    "ExecuteTime": {
     "end_time": "2024-04-23T16:02:55.813405Z",
     "start_time": "2024-04-23T16:02:55.744944Z"
    }
   },
   "id": "d77eeff1609c908a"
  }
 ],
 "metadata": {
  "kernelspec": {
   "display_name": "Python 3",
   "language": "python",
   "name": "python3"
  },
  "language_info": {
   "codemirror_mode": {
    "name": "ipython",
    "version": 2
   },
   "file_extension": ".py",
   "mimetype": "text/x-python",
   "name": "python",
   "nbconvert_exporter": "python",
   "pygments_lexer": "ipython2",
   "version": "2.7.6"
  }
 },
 "nbformat": 4,
 "nbformat_minor": 5
}
